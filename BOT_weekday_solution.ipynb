{
 "cells": [
  {
   "cell_type": "code",
   "execution_count": 1,
   "metadata": {
    "collapsed": true
   },
   "outputs": [],
   "source": [
    "import json"
   ]
  },
  {
   "cell_type": "code",
   "execution_count": 2,
   "metadata": {
    "collapsed": true
   },
   "outputs": [],
   "source": [
    "with open('pricedetail.json') as f:\n",
    "    d = json.load(f)"
   ]
  },
  {
   "cell_type": "code",
   "execution_count": 3,
   "metadata": {},
   "outputs": [
    {
     "data": {
      "text/plain": [
       "[{'d0_open': 9.8,\n",
       "  'd0_wd': 3,\n",
       "  'd1_open': 9.51,\n",
       "  'd1_wd': 4,\n",
       "  'd2_open': 9.57,\n",
       "  'd2_wd': 5,\n",
       "  'd3_open': 9.75,\n",
       "  'd3_wd': 6,\n",
       "  'data_date': '2014-04-22',\n",
       "  'security_id': '000008'},\n",
       " {'d0_open': 20.03,\n",
       "  'd0_wd': 3,\n",
       "  'd1_open': 20.35,\n",
       "  'd1_wd': 4,\n",
       "  'd2_open': 20.31,\n",
       "  'd2_wd': 5,\n",
       "  'd3_open': 21.0,\n",
       "  'd3_wd': 6,\n",
       "  'data_date': '2014-11-04',\n",
       "  'security_id': '000008'},\n",
       " {'d0_open': 11.19,\n",
       "  'd0_wd': 3,\n",
       "  'd1_open': 10.57,\n",
       "  'd1_wd': 4,\n",
       "  'd2_open': 11.38,\n",
       "  'd2_wd': 5,\n",
       "  'd3_open': 10.76,\n",
       "  'd3_wd': 6,\n",
       "  'data_date': '2016-03-29',\n",
       "  'security_id': '000008'}]"
      ]
     },
     "execution_count": 3,
     "metadata": {},
     "output_type": "execute_result"
    }
   ],
   "source": [
    "d[:3]"
   ]
  },
  {
   "cell_type": "code",
   "execution_count": 4,
   "metadata": {
    "collapsed": true
   },
   "outputs": [],
   "source": [
    "dd = [ [i['d1_open']/i['d0_open']-1, i['d2_open']/i['d1_open']-1, i['d3_open']/i['d2_open']-1] for i in d]"
   ]
  },
  {
   "cell_type": "code",
   "execution_count": 5,
   "metadata": {},
   "outputs": [
    {
     "data": {
      "text/plain": [
       "[[-0.02959183673469401, 0.006309148264984188, 0.01880877742946696],\n",
       " [0.01597603594608099, -0.0019656019656021373, 0.033973412112260126],\n",
       " [-0.055406613047363606, 0.07663197729422899, -0.054481546572935025],\n",
       " [0.015971606033717833, 0.05240174672489095, -0.014107883817427336]]"
      ]
     },
     "execution_count": 5,
     "metadata": {},
     "output_type": "execute_result"
    }
   ],
   "source": [
    "dd[:4]"
   ]
  },
  {
   "cell_type": "code",
   "execution_count": 6,
   "metadata": {},
   "outputs": [
    {
     "data": {
      "text/plain": [
       "0.06814079422382671"
      ]
     },
     "execution_count": 6,
     "metadata": {},
     "output_type": "execute_result"
    }
   ],
   "source": [
    "len([i for i in dd if i[0] > 0.05])/len(dd)"
   ]
  },
  {
   "cell_type": "code",
   "execution_count": 7,
   "metadata": {},
   "outputs": [
    {
     "data": {
      "text/plain": [
       "0.05140933074146071"
      ]
     },
     "execution_count": 7,
     "metadata": {},
     "output_type": "execute_result"
    }
   ],
   "source": [
    "len([i for i in dd if i[0] < -0.05])/len(dd)"
   ]
  },
  {
   "cell_type": "code",
   "execution_count": 8,
   "metadata": {},
   "outputs": [
    {
     "data": {
      "text/plain": [
       "0.47447126682332835"
      ]
     },
     "execution_count": 8,
     "metadata": {},
     "output_type": "execute_result"
    }
   ],
   "source": [
    "# 第一天是++第二天的概率分布\n",
    "len([i for i in dd if i[0] >0 and i[1] > 0])/len([i for i in dd if i[0] > 0])"
   ]
  },
  {
   "cell_type": "markdown",
   "metadata": {
    "collapsed": true
   },
   "source": [
    "[i for i in dd if i[0] > 0.1]"
   ]
  },
  {
   "cell_type": "markdown",
   "metadata": {},
   "source": [
    "### target\n",
    "+, 0, - problity distribution\n",
    "1. Threshold 0.5\n",
    "2. threshold 0.7"
   ]
  },
  {
   "cell_type": "code",
   "execution_count": 9,
   "metadata": {
    "collapsed": true
   },
   "outputs": [],
   "source": [
    "class price():\n",
    "    def __init__(self, ele=None):\n",
    "        if isinstance(ele,dict):\n",
    "            self.v1 = (float(ele['d1_open']) / float(ele['d0_open'])) - 1\n",
    "            self.v2 = (float(ele['d2_open']) / float(ele['d1_open'])) - 1\n",
    "            self.v3 = (float(ele['d3_open']) / float(ele['d2_open'])) - 1\n",
    "            self.d0 = ele['d0_wd']\n",
    "            self.d1 = ele['d1_wd']\n",
    "            self.d2 = ele['d2_wd']\n",
    "            self.d3 = ele['d3_wd']"
   ]
  },
  {
   "cell_type": "code",
   "execution_count": 10,
   "metadata": {
    "collapsed": true
   },
   "outputs": [],
   "source": [
    "data = [price(i) for i in d] "
   ]
  },
  {
   "cell_type": "code",
   "execution_count": 11,
   "metadata": {},
   "outputs": [
    {
     "name": "stdout",
     "output_type": "stream",
     "text": [
      "星期1\n",
      "0.43915343915343913\n",
      "星期2\n",
      "0.43891402714932126\n",
      "星期3\n",
      "0.38578680203045684\n",
      "星期4\n",
      "0.5689655172413793\n",
      "星期5\n",
      "0.5950226244343891\n"
     ]
    }
   ],
   "source": [
    "# happen in 4\n",
    "for x in range(2,7):\n",
    "    print('星期{}'.format(x-1))\n",
    "    h4 = [i for i in data if i.d0 == x]\n",
    "    if len([i for i in h4 if abs(i.v1) > 0.07]) > 0:\n",
    "        print(len([i for i in h4 if abs(i.v1) > 0.07 and i.v2*i.v1 > 0 ]) /len([i for i in h4 if abs(i.v1) > 0.07]))\n",
    "    else:\n",
    "        print(0)"
   ]
  },
  {
   "cell_type": "code",
   "execution_count": 12,
   "metadata": {},
   "outputs": [
    {
     "name": "stdout",
     "output_type": "stream",
     "text": [
      "星期1\n",
      "0.4261744966442953\n",
      "星期2\n",
      "0.46523388116308473\n",
      "星期3\n",
      "0.39504563233376794\n",
      "星期4\n",
      "0.5267489711934157\n",
      "星期5\n",
      "0.5483119906868452\n"
     ]
    }
   ],
   "source": [
    "# happen in 4\n",
    "threshold = 0.05\n",
    "for x in range(2,7):\n",
    "    print('星期{}'.format(x-1))\n",
    "    h4 = [i for i in data if i.d0 == x]\n",
    "    if len([i for i in h4 if abs(i.v1) > threshold]) > 0:\n",
    "        print(len([i for i in h4 if abs(i.v1) > threshold and i.v2*i.v1 > 0 ]) /len([i for i in h4 if abs(i.v1) > threshold]))\n",
    "    else:\n",
    "        print(0)"
   ]
  },
  {
   "cell_type": "code",
   "execution_count": 13,
   "metadata": {},
   "outputs": [
    {
     "name": "stdout",
     "output_type": "stream",
     "text": [
      "星期1\n",
      "0.4375\n",
      "星期2\n",
      "0.41116751269035534\n",
      "星期3\n",
      "0.4097222222222222\n",
      "星期4\n",
      "0.6305732484076433\n",
      "星期5\n",
      "0.6256983240223464\n"
     ]
    }
   ],
   "source": [
    "# happen in 4\n",
    "threshold = 0.1\n",
    "for x in range(2,7):\n",
    "    print('星期{}'.format(x-1))\n",
    "    h4 = [i for i in data if i.d0 == x]\n",
    "    if len([i for i in h4 if abs(i.v1) > threshold]) > 0:\n",
    "        print(len([i for i in h4 if abs(i.v1) > threshold and i.v2*i.v1 > 0 ]) /len([i for i in h4 if abs(i.v1) > threshold]))\n",
    "    else:\n",
    "        print(0)"
   ]
  },
  {
   "cell_type": "markdown",
   "metadata": {},
   "source": [
    "## 3天变化"
   ]
  },
  {
   "cell_type": "code",
   "execution_count": 14,
   "metadata": {},
   "outputs": [
    {
     "name": "stdout",
     "output_type": "stream",
     "text": [
      "星期1\n",
      "0.13541666666666666\n",
      "0.3229166666666667\n",
      "0.25\n",
      "0.2916666666666667\n",
      "星期2\n",
      "0.17258883248730963\n",
      "0.29441624365482233\n",
      "0.29949238578680204\n",
      "0.233502538071066\n",
      "星期3\n",
      "0.2847222222222222\n",
      "0.13194444444444445\n",
      "0.2222222222222222\n",
      "0.3611111111111111\n",
      "星期4\n",
      "0.3821656050955414\n",
      "0.25477707006369427\n",
      "0.25477707006369427\n",
      "0.10828025477707007\n",
      "星期5\n",
      "0.2569832402234637\n",
      "0.37988826815642457\n",
      "0.1787709497206704\n",
      "0.18435754189944134\n"
     ]
    }
   ],
   "source": [
    "# happen in 4\n",
    "threshold = 0.1\n",
    "for x in range(2,7):\n",
    "    print('星期{}'.format(x-1))\n",
    "    h4 = [i for i in data if i.d0 == x]\n",
    "    a = len([i for i in h4 if abs(i.v1) > threshold])\n",
    "    if  a > 0:\n",
    "        print(len([i for i in h4 if abs(i.v1) > threshold and i.v2*i.v1 >= 0 and i.v3*i.v1 >= 0]) / a)\n",
    "        print(len([i for i in h4 if abs(i.v1) > threshold and i.v2*i.v1 >= 0 and i.v3*i.v1 < 0]) / a)\n",
    "        print(len([i for i in h4 if abs(i.v1) > threshold and i.v2*i.v1 < 0 and i.v3*i.v1 >= 0]) / a)\n",
    "        print(len([i for i in h4 if abs(i.v1) > threshold and i.v2*i.v1 < 0 and i.v3*i.v1 < 0]) / a)\n",
    "    else:\n",
    "        print(0)"
   ]
  },
  {
   "cell_type": "code",
   "execution_count": 15,
   "metadata": {},
   "outputs": [
    {
     "name": "stdout",
     "output_type": "stream",
     "text": [
      "星期1\n",
      "0.17114093959731544\n",
      "0.2684563758389262\n",
      "0.2483221476510067\n",
      "0.31208053691275167\n",
      "星期2\n",
      "0.21744627054361568\n",
      "0.2781289506953224\n",
      "0.2895069532237674\n",
      "0.21491782553729458\n",
      "星期3\n",
      "0.1877444589308996\n",
      "0.21642764015645372\n",
      "0.22946544980443284\n",
      "0.3663624511082138\n",
      "星期4\n",
      "0.32510288065843623\n",
      "0.21536351165980797\n",
      "0.262002743484225\n",
      "0.19753086419753085\n",
      "星期5\n",
      "0.19557625145518046\n",
      "0.36554132712456344\n",
      "0.1781140861466822\n",
      "0.2607683352735739\n"
     ]
    }
   ],
   "source": [
    "# happen in 4\n",
    "threshold = 0.05\n",
    "for x in range(2,7):\n",
    "    print('星期{}'.format(x-1))\n",
    "    h4 = [i for i in data if i.d0 == x]\n",
    "    a = len([i for i in h4 if abs(i.v1) > threshold])\n",
    "    if  a > 0:\n",
    "        print(len([i for i in h4 if abs(i.v1) > threshold and i.v2*i.v1 >= 0 and i.v3*i.v1 >= 0]) / a)\n",
    "        print(len([i for i in h4 if abs(i.v1) > threshold and i.v2*i.v1 >= 0 and i.v3*i.v1 < 0]) / a)\n",
    "        print(len([i for i in h4 if abs(i.v1) > threshold and i.v2*i.v1 < 0 and i.v3*i.v1 >= 0]) / a)\n",
    "        print(len([i for i in h4 if abs(i.v1) > threshold and i.v2*i.v1 < 0 and i.v3*i.v1 < 0]) / a)\n",
    "    else:\n",
    "        print(0)"
   ]
  },
  {
   "cell_type": "code",
   "execution_count": 16,
   "metadata": {
    "collapsed": true
   },
   "outputs": [],
   "source": [
    "import numpy as np\n"
   ]
  },
  {
   "cell_type": "code",
   "execution_count": 17,
   "metadata": {},
   "outputs": [
    {
     "name": "stdout",
     "output_type": "stream",
     "text": [
      "threshold 0.01\n",
      "星期1\n",
      "++: 0.2049239681390297 +-: 0.2664735698769008 -+: 0.2621288921071687 --:0.2664735698769008\n",
      "星期2\n",
      "++: 0.23407202216066483 +-: 0.2583102493074792 -+: 0.28924284395198524 --:0.21837488457987073\n",
      "星期3\n",
      "++: 0.20901529380198552 +-: 0.2393345854574725 -+: 0.27770324657901796 --:0.273946874161524\n",
      "星期4\n",
      "++: 0.26508226691042047 +-: 0.23243666753721598 -+: 0.2642987725254636 --:0.23818229302689997\n",
      "星期5\n",
      "++: 0.20471894517696043 +-: 0.32662502891510525 -+: 0.21582234559333796 --:0.25283368031459635\n",
      "策略：[1, 2, 2, 0, 1]\n",
      "总概率：1.4251269562334299\n",
      "---------------\n",
      "threshold 0.02\n",
      "星期1\n",
      "++: 0.18995633187772926 +-: 0.27838427947598254 -+: 0.259825327510917 --:0.2718340611353712\n",
      "星期2\n",
      "++: 0.23291332569683085 +-: 0.26498663612065676 -+: 0.2917143948071783 --:0.2103856433753341\n",
      "星期3\n",
      "++: 0.19718309859154928 +-: 0.24455825864276567 -+: 0.26376440460947503 --:0.29449423815621\n",
      "星期4\n",
      "++: 0.27059807611877873 +-: 0.2317022166457549 -+: 0.26056043496445 --:0.2371392722710163\n",
      "星期5\n",
      "++: 0.19874167283493707 +-: 0.3449296817172465 -+: 0.20318282753515915 --:0.2531458179126573\n",
      "策略：[1, 2, 3, 0, 1]\n",
      "总概率：1.4801206702753962\n",
      "---------------\n",
      "threshold 0.03\n",
      "星期1\n",
      "++: 0.1836734693877551 +-: 0.2602040816326531 -+: 0.2585034013605442 --:0.2976190476190476\n",
      "星期2\n",
      "++: 0.22366097704532079 +-: 0.28251912889935255 -+: 0.28251912889935255 --:0.2113007651559741\n",
      "星期3\n",
      "++: 0.18725617685305593 +-: 0.24057217165149544 -+: 0.24057217165149544 --:0.33159947984395316\n",
      "星期4\n",
      "++: 0.2907573812580231 +-: 0.22400513478818998 -+: 0.2682926829268293 --:0.21694480102695765\n",
      "星期5\n",
      "++: 0.18932874354561102 +-: 0.3608720596672404 -+: 0.19793459552495696 --:0.2518646012621916\n",
      "策略：[3, 1, 3, 0, 1]\n",
      "总概率：1.5633670972876168\n",
      "---------------\n",
      "threshold 0.04\n",
      "星期1\n",
      "++: 0.16953316953316952 +-: 0.27764127764127766 -+: 0.25552825552825553 --:0.2972972972972973\n",
      "星期2\n",
      "++: 0.22671353251318102 +-: 0.27680140597539543 -+: 0.28998242530755713 --:0.20650263620386644\n",
      "星期3\n",
      "++: 0.1851179673321234 +-: 0.24047186932849365 -+: 0.2277676950998185 --:0.3466424682395644\n",
      "星期4\n",
      "++: 0.31315042573320717 +-: 0.21381267738883633 -+: 0.26584673604541154 --:0.20719016083254493\n",
      "星期5\n",
      "++: 0.19011725293132328 +-: 0.3609715242881072 -+: 0.1884422110552764 --:0.26046901172529313\n",
      "策略：[3, 2, 3, 0, 1]\n",
      "总概率：1.6080441408657333\n",
      "---------------\n",
      "threshold 0.05\n",
      "星期1\n",
      "++: 0.17114093959731544 +-: 0.2684563758389262 -+: 0.2483221476510067 --:0.31208053691275167\n",
      "星期2\n",
      "++: 0.21744627054361568 +-: 0.2781289506953224 -+: 0.2895069532237674 --:0.21491782553729458\n",
      "星期3\n",
      "++: 0.1877444589308996 +-: 0.21642764015645372 -+: 0.22946544980443284 --:0.3663624511082138\n",
      "星期4\n",
      "++: 0.32510288065843623 +-: 0.21536351165980797 -+: 0.262002743484225 --:0.19753086419753085\n",
      "星期5\n",
      "++: 0.19557625145518046 +-: 0.36554132712456344 -+: 0.1781140861466822 --:0.2607683352735739\n",
      "策略：[3, 2, 3, 0, 1]\n",
      "总概率：1.6585941490277323\n",
      "---------------\n",
      "threshold 0.06\n",
      "星期1\n",
      "++: 0.1724137931034483 +-: 0.2629310344827586 -+: 0.2629310344827586 --:0.3017241379310345\n",
      "星期2\n",
      "++: 0.2209106239460371 +-: 0.26981450252951095 -+: 0.29679595278246207 --:0.21247892074198987\n",
      "星期3\n",
      "++: 0.19237749546279492 +-: 0.21052631578947367 -+: 0.2177858439201452 --:0.3793103448275862\n",
      "星期4\n",
      "++: 0.33086876155268025 +-: 0.2199630314232902 -+: 0.27171903881700554 --:0.17744916820702403\n",
      "星期5\n",
      "++: 0.2138047138047138 +-: 0.37037037037037035 -+: 0.16666666666666666 --:0.24915824915824916\n",
      "策略：[3, 2, 3, 0, 1]\n",
      "总概率：1.6790695674641332\n",
      "---------------\n",
      "threshold 0.07\n",
      "星期1\n",
      "++: 0.17989417989417988 +-: 0.2751322751322751 -+: 0.24338624338624337 --:0.30158730158730157\n",
      "星期2\n",
      "++: 0.20135746606334842 +-: 0.27828054298642535 -+: 0.2986425339366516 --:0.22171945701357465\n",
      "星期3\n",
      "++: 0.20050761421319796 +-: 0.19035532994923857 -+: 0.19796954314720813 --:0.41116751269035534\n",
      "星期4\n",
      "++: 0.35467980295566504 +-: 0.229064039408867 -+: 0.26108374384236455 --:0.15517241379310345\n",
      "星期5\n",
      "++: 0.2239819004524887 +-: 0.38461538461538464 -+: 0.14705882352941177 --:0.24434389140271492\n",
      "策略：[3, 2, 3, 0, 1]\n",
      "总概率：1.7506925357853582\n",
      "---------------\n",
      "threshold 0.08\n",
      "星期1\n",
      "++: 0.16129032258064516 +-: 0.3032258064516129 -+: 0.22580645161290322 --:0.3096774193548387\n",
      "星期2\n",
      "++: 0.2066115702479339 +-: 0.27823691460055094 -+: 0.3002754820936639 --:0.21487603305785125\n",
      "星期3\n",
      "++: 0.23648648648648649 +-: 0.16554054054054054 -+: 0.21283783783783783 --:0.38513513513513514\n",
      "星期4\n",
      "++: 0.359375 +-: 0.253125 -+: 0.24375 --:0.14375\n",
      "星期5\n",
      "++: 0.25290697674418605 +-: 0.37790697674418605 -+: 0.1511627906976744 --:0.2180232558139535\n",
      "策略：[3, 2, 3, 0, 1]\n",
      "总概率：1.7323700133278237\n",
      "---------------\n",
      "threshold 0.1\n",
      "星期1\n",
      "++: 0.13541666666666666 +-: 0.3229166666666667 -+: 0.25 --:0.2916666666666667\n",
      "星期2\n",
      "++: 0.17258883248730963 +-: 0.29441624365482233 -+: 0.29949238578680204 --:0.233502538071066\n",
      "星期3\n",
      "++: 0.2847222222222222 +-: 0.13194444444444445 -+: 0.2222222222222222 --:0.3611111111111111\n",
      "星期4\n",
      "++: 0.3821656050955414 +-: 0.25477707006369427 -+: 0.25477707006369427 --:0.10828025477707007\n",
      "星期5\n",
      "++: 0.2569832402234637 +-: 0.37988826815642457 -+: 0.1787709497206704 --:0.18435754189944134\n",
      "策略：[1, 2, 3, 0, 1]\n",
      "总概率：1.745574036816546\n",
      "---------------\n"
     ]
    }
   ],
   "source": [
    "# happen in 4\n",
    "for t in [0.01,0.02,0.03,0.04, 0.05, 0.06, 0.07, 0.08, 0.1]:\n",
    "    threshold = t\n",
    "    print('threshold {}'.format(t))\n",
    "    vs = []\n",
    "    ces = []\n",
    "    for x in range(2,7):\n",
    "        print('星期{}'.format(x-1))\n",
    "        h4 = [i for i in data if i.d0 == x]\n",
    "        a = len([i for i in h4 if abs(i.v1) > threshold])\n",
    "        if  a > 0:\n",
    "            r1 = len([i for i in h4 if abs(i.v1) > threshold and i.v2*i.v1 >= 0 and i.v3*i.v1 >= 0]) / a\n",
    "            r2 = len([i for i in h4 if abs(i.v1) > threshold and i.v2*i.v1 >= 0 and i.v3*i.v1 < 0]) / a\n",
    "            r3 = len([i for i in h4 if abs(i.v1) > threshold and i.v2*i.v1 < 0 and i.v3*i.v1 >= 0]) / a\n",
    "            r4 = len([i for i in h4 if abs(i.v1) > threshold and i.v2*i.v1 < 0 and i.v3*i.v1 < 0]) / a\n",
    "            print('++: {} +-: {} -+: {} --:{}'.format(r1, r2, r3, r4))\n",
    "            var = max([r1, r2, r3, r4])\n",
    "            celv = np.argmax([r1, r2, r3, r4])\n",
    "            vs.append(var)\n",
    "            ces.append(celv)\n",
    "    print('策略：{}'.format(ces))\n",
    "    print('总概率：{}'.format(sum(vs)))\n",
    "    print('---'*5)"
   ]
  },
  {
   "cell_type": "code",
   "execution_count": 18,
   "metadata": {},
   "outputs": [
    {
     "name": "stdout",
     "output_type": "stream",
     "text": [
      "threshold 0.01\n",
      "策略：[1, 2, 2, 0, 1]\n",
      "随机策略：[1, 2, 3, 5, 0]\n",
      "总概率：2.19354142036071\n",
      "---------------\n",
      "threshold 0.02\n",
      "策略：[1, 2, 3, 0, 1]\n",
      "随机策略：[1, 2, 2, 4, 1]\n",
      "总概率：2.2224304352323485\n",
      "---------------\n",
      "threshold 0.03\n",
      "策略：[3, 1, 3, 0, 1]\n",
      "随机策略：[1, 2, 2, 4, 1]\n",
      "总概率：2.3122501255496983\n",
      "---------------\n",
      "threshold 0.04\n",
      "策略：[3, 2, 3, 0, 1]\n",
      "随机策略：[1, 2, 2, 4, 1]\n",
      "总概率：2.356858190118783\n",
      "---------------\n",
      "threshold 0.05\n",
      "策略：[3, 2, 3, 0, 1]\n",
      "随机策略：[1, 1, 2, 4, 5]\n",
      "总概率：2.4093045350409312\n",
      "---------------\n",
      "threshold 0.06\n",
      "策略：[3, 2, 3, 0, 1]\n",
      "随机策略：[1, 1, 2, 4, 5]\n",
      "总概率：2.432953714470419\n",
      "---------------\n",
      "threshold 0.07\n",
      "策略：[3, 2, 3, 0, 1]\n",
      "随机策略：[1, 1, 2, 4, 5]\n",
      "总概率：2.50683936095891\n",
      "---------------\n",
      "threshold 0.08\n",
      "策略：[3, 2, 3, 0, 1]\n",
      "随机策略：[1, 1, 2, 4, 5]\n",
      "总概率：2.4868974015704564\n",
      "---------------\n",
      "threshold 0.1\n",
      "策略：[1, 2, 3, 0, 1]\n",
      "随机策略：[1, 1, 2, 4, 5]\n",
      "总概率：2.4970268534072373\n",
      "---------------\n"
     ]
    }
   ],
   "source": [
    "# happen in 4\n",
    "for t in [0.01,0.02,0.03,0.04, 0.05, 0.06, 0.07, 0.08, 0.1]:\n",
    "    threshold = t\n",
    "    print('threshold {}'.format(t))\n",
    "    vs = []\n",
    "    ces = []\n",
    "    rances = []\n",
    "    ranvs = []\n",
    "    for x in range(2,7):\n",
    "        # print('星期{}'.format(x-1))\n",
    "        h4 = [i for i in data if i.d0 == x]\n",
    "        a = len([i for i in h4 if abs(i.v1) > threshold])\n",
    "        if  a > 0:\n",
    "            r1 = len([i for i in h4 if abs(i.v1) > threshold and i.v2*i.v1 >= 0 and i.v3*i.v1 >= 0]) / a\n",
    "            r2 = len([i for i in h4 if abs(i.v1) > threshold and i.v2*i.v1 >= 0 and i.v3*i.v1 < 0]) / a\n",
    "            r3 = len([i for i in h4 if abs(i.v1) > threshold and i.v2*i.v1 < 0 and i.v3*i.v1 >= 0]) / a\n",
    "            r4 = len([i for i in h4 if abs(i.v1) > threshold and i.v2*i.v1 < 0 and i.v3*i.v1 < 0]) / a\n",
    "            # print('++: {} +-: {} -+: {} --:{}'.format(r1, r2, r3, r4))\n",
    "            var = max([r1, r2, r3, r4])\n",
    "            celv = np.argmax([r1, r2, r3, r4])\n",
    "            vs.append(var)\n",
    "            ces.append(celv)\n",
    "        b = [i for i in h4 if abs(i.v1) < threshold]\n",
    "        j1 = len([i for i in b if i.v1 >= 0 and i.v2 >= 0 and i.v3 >=0])/len(b)\n",
    "        j2 = len([i for i in b if i.v1 >= 0 and i.v2 >= 0 and i.v3 <0])/len(b)\n",
    "        j3 = len([i for i in b if i.v1 >= 0 and i.v2 < 0 and i.v3 >=0])/len(b)\n",
    "        j4 = len([i for i in b if i.v1 >= 0 and i.v2 < 0 and i.v3 <0])/len(b)\n",
    "        j5 = len([i for i in b if i.v1 < 0 and i.v2 >= 0 and i.v3 >=0])/len(b)\n",
    "        j6 = len([i for i in b if i.v1 < 0 and i.v2 < 0 and i.v3 >=0])/len(b)\n",
    "        j7 = len([i for i in b if i.v1 < 0 and i.v2 < 0 and i.v3 <0])/len(b)\n",
    "        j8 = len([i for i in b if i.v1 < 0 and i.v2 >= 0 and i.v3 <0])/len(b)\n",
    "        # print([j1, j2, j3, j4, j5, j6, j7, j8])\n",
    "        rances.append(np.argmax([j1,j2,j3,j4,j5,j6,j7,j8]))\n",
    "        ranvs.append(max([j1,j2,j3,j4,j5,j6,j7,j8]))\n",
    "    print('策略：{}'.format(ces))\n",
    "    print('随机策略：{}'.format(rances))\n",
    "    print('总概率：{}'.format(sum(vs) + sum(ranvs)))\n",
    "    print('---'*5)"
   ]
  },
  {
   "cell_type": "code",
   "execution_count": 19,
   "metadata": {},
   "outputs": [
    {
     "name": "stdout",
     "output_type": "stream",
     "text": [
      "2: 0.5269346772038331\n",
      "3: 0.5338175756132413\n",
      "4: 0.553994948561572\n",
      "5: 0.5030592734225622\n",
      "6: 0.4748869914615771\n"
     ]
    }
   ],
   "source": [
    "from collections import Counter\n",
    "p = Counter()\n",
    "a = Counter()\n",
    "p.update([i.d1 for i in data if i.v1 >= 0])\n",
    "p.update([i.d2 for i in data if i.v2 >= 0])\n",
    "p.update([i.d3 for i in data if i.v3 >= 0])\n",
    "a.update([j for i in data for j in [i.d1, i.d2, i.d3]])\n",
    "for j in a:\n",
    "    print('{}: {}'.format(j, p[j]/a[j]))"
   ]
  },
  {
   "cell_type": "markdown",
   "metadata": {},
   "source": [
    "## 状态迁移矩阵\n",
    "状态，上一level，当前时间\n",
    "level分为0.1为一档"
   ]
  },
  {
   "cell_type": "code",
   "execution_count": 20,
   "metadata": {
    "collapsed": true
   },
   "outputs": [],
   "source": [
    "levels = list(zip([-100] + list(range(-9,10,1)), list(range(-9,10,1)) + [100]))"
   ]
  },
  {
   "cell_type": "code",
   "execution_count": 21,
   "metadata": {
    "collapsed": true
   },
   "outputs": [],
   "source": [
    "def get_level(num):\n",
    "    for i, v in enumerate(levels):\n",
    "        if num >= v[0] and num < v[1]:\n",
    "            return i"
   ]
  },
  {
   "cell_type": "code",
   "execution_count": 22,
   "metadata": {
    "collapsed": true
   },
   "outputs": [],
   "source": [
    "# d2 d3 当前日-上个level\n",
    "matrix_num = np.zeros((5,20,20), dtype=np.int32)\n",
    "for i in data:\n",
    "    # d2 d3 pre = v1, v2, v2,v3\n",
    "    l1 = get_level(i.v1*100)\n",
    "    l2 = get_level(i.v2*100)\n",
    "    l3 = get_level(i.v3*100)\n",
    "    matrix_num[i.d2-2][l1][l2] += 1\n",
    "    matrix_num[i.d3-2][l2][l3] += 1"
   ]
  },
  {
   "cell_type": "code",
   "execution_count": 23,
   "metadata": {
    "collapsed": true
   },
   "outputs": [],
   "source": [
    "matrix_prob = matrix_num/np.repeat(np.sum(matrix_num,2),20,axis=1).reshape(5,20,20)"
   ]
  },
  {
   "cell_type": "code",
   "execution_count": 24,
   "metadata": {},
   "outputs": [
    {
     "data": {
      "text/plain": [
       "0"
      ]
     },
     "execution_count": 24,
     "metadata": {},
     "output_type": "execute_result"
    }
   ],
   "source": [
    "np.argmax(matrix_prob[0][0])"
   ]
  },
  {
   "cell_type": "code",
   "execution_count": 25,
   "metadata": {
    "collapsed": true
   },
   "outputs": [],
   "source": [
    "matrix_t0_num = np.zeros((5, 20), dtype=np.int32)\n",
    "for i in data:\n",
    "    l1 = get_level(i.v1*100)\n",
    "    l2 = get_level(i.v2*100)\n",
    "    l3 = get_level(i.v3*100)\n",
    "    matrix_t0_num[i.d1-2][l1] += 1\n",
    "    matrix_t0_num[i.d2-2][l2] += 1\n",
    "    matrix_t0_num[i.d3-2][l3] += 1"
   ]
  },
  {
   "cell_type": "code",
   "execution_count": 26,
   "metadata": {},
   "outputs": [
    {
     "data": {
      "text/plain": [
       "array([[ 367,  123,  179,  233,  428,  654,  990, 1840, 3162, 4415, 5370,\n",
       "        3093, 1777, 1071,  670,  493,  310,  210,  140,  668],\n",
       "       [ 259,   33,   57,   85,  118,  190,  291,  556,  903, 1423, 1723,\n",
       "        1050,  653,  373,  217,  129,   68,   64,   39,  167],\n",
       "       [ 225,   85,   90,  131,  199,  286,  527,  893, 1763, 3041, 3674,\n",
       "        1994, 1197,  679,  431,  258,  191,   86,  109,  374],\n",
       "       [ 231,   74,  123,  155,  223,  386,  560,  987, 1914, 3144, 3320,\n",
       "        1673,  988,  574,  406,  257,  204,  104,   70,  297],\n",
       "       [ 230,  102,  125,  192,  313,  498,  787, 1434, 2708, 4066, 4067,\n",
       "        1898, 1097,  688,  425,  298,  209,  132,  116,  525]], dtype=int32)"
      ]
     },
     "execution_count": 26,
     "metadata": {},
     "output_type": "execute_result"
    }
   ],
   "source": [
    "matrix_t0_num"
   ]
  },
  {
   "cell_type": "code",
   "execution_count": 27,
   "metadata": {
    "collapsed": true
   },
   "outputs": [],
   "source": [
    "matrix_t0_prob = matrix_t0_num/np.repeat(np.sum(matrix_t0_num, 1), 20).reshape(5, 20)"
   ]
  },
  {
   "cell_type": "code",
   "execution_count": 28,
   "metadata": {},
   "outputs": [
    {
     "data": {
      "image/png": "[encoded data removed]",
      "text/plain": [
       "<matplotlib.figure.Figure at 0x7ffa3c0682e8>"
      ]
     },
     "metadata": {},
     "output_type": "display_data"
    }
   ],
   "source": [
    "from matplotlib import pyplot as plt\n",
    "plt.plot(matrix_prob[0,18,:])\n",
    "plt.show()\n",
    "plt.close()"
   ]
  },
  {
   "cell_type": "code",
   "execution_count": 29,
   "metadata": {},
   "outputs": [
    {
     "data": {
      "text/plain": [
       "array([ 0.15789474,  0.01315789,  0.02192982,  0.02631579,  0.03508772,\n",
       "        0.04385965,  0.04824561,  0.12719298,  0.09210526,  0.04824561,\n",
       "        0.05263158,  0.04824561,  0.03508772,  0.06578947,  0.03508772,\n",
       "        0.05701754,  0.01754386,  0.01315789,  0.02192982,  0.03947368])"
      ]
     },
     "execution_count": 29,
     "metadata": {},
     "output_type": "execute_result"
    }
   ],
   "source": [
    "matrix_prob[0][0]"
   ]
  },
  {
   "cell_type": "code",
   "execution_count": 30,
   "metadata": {},
   "outputs": [
    {
     "name": "stdout",
     "output_type": "stream",
     "text": [
      "[-10, -8.5, -7.5, -6.5, -5.5, -4.5, -3.5, -2.5, -1.5, -0.5, 0.5, 1.5, 2.5, 3.5, 4.5, 5.5, 6.5, 7.5, 8.5, 10]\n"
     ]
    }
   ],
   "source": [
    "level_pro = [-10] + [np.mean(i) for i in levels[1:10]] + [np.mean(i) for i in levels[10:-1]] + [10]\n",
    "print(level_pro)"
   ]
  },
  {
   "cell_type": "code",
   "execution_count": 31,
   "metadata": {
    "collapsed": true
   },
   "outputs": [],
   "source": [
    "def expected(prob,level_win):\n",
    "    output = []\n",
    "    for i in range(len(prob)):\n",
    "        # level\n",
    "        s = []\n",
    "        if i < len(prob)/2:\n",
    "            max_p = level_win[i]\n",
    "            for j in range(len(prob)):\n",
    "                if j < len(prob)/2:\n",
    "                    p = max(max_p, level_win[j])\n",
    "                    s.append(abs(p*prob[j]))\n",
    "                else:\n",
    "                    p = abs(max_p - level_win[j])\n",
    "                    s.append(-abs(p*prob[j]))\n",
    "        else:\n",
    "            max_p = level_win[i]\n",
    "            for j in range(len(prob)):\n",
    "                if j < len(prob)/2:\n",
    "                    p = abs(max_p - level_win[j])\n",
    "                    s.append(-abs(p*prob[j]))\n",
    "                else:\n",
    "                    p = min(max_p, level_win[j])\n",
    "                    s.append(abs(p*prob[j]))\n",
    "        output.append(sum(s))\n",
    "    return output                    \n",
    "            \n",
    "            \n",
    "                    \n",
    "                \n",
    "                \n",
    "        "
   ]
  },
  {
   "cell_type": "code",
   "execution_count": 32,
   "metadata": {},
   "outputs": [
    {
     "data": {
      "text/plain": [
       "[-0.30000000000000027, -0.30000000000000016, -2.2999999999999994, -4.7]"
      ]
     },
     "execution_count": 32,
     "metadata": {},
     "output_type": "execute_result"
    }
   ],
   "source": [
    "expected([0.3, 0.4, 0.2, 0.1], [-5,-1,1,5])"
   ]
  },
  {
   "cell_type": "code",
   "execution_count": 33,
   "metadata": {},
   "outputs": [
    {
     "name": "stdout",
     "output_type": "stream",
     "text": [
      "[7, 5, 9, 9, 9, 9, 10, 10, 10, 10, 10, 10, 10, 10, 10, 10, 11, 10, 11, 16]\n",
      "[0, 1, 9, 9, 7, 8, 9, 9, 10, 10, 10, 10, 10, 11, 9, 8, 9, 8, 10, 10]\n",
      "[13, 16, 11, 11, 12, 11, 11, 10, 10, 10, 10, 10, 10, 9, 9, 9, 10, 8, 10, 11]\n",
      "[12, 11, 10, 8, 10, 10, 10, 10, 10, 10, 9, 10, 10, 10, 10, 9, 10, 8, 9, 10]\n",
      "[19, 14, 13, 13, 11, 10, 10, 10, 10, 9, 9, 9, 8, 8, 9, 8, 8, 9, 9, 12]\n"
     ]
    }
   ],
   "source": [
    "for i in range(5):\n",
    "    print([np.argmax(expected(i, level_pro)) for i in matrix_prob[i]])"
   ]
  },
  {
   "cell_type": "markdown",
   "metadata": {},
   "source": [
    "### 得分"
   ]
  },
  {
   "cell_type": "code",
   "execution_count": 34,
   "metadata": {
    "collapsed": true
   },
   "outputs": [],
   "source": [
    "def expect_margin(predictions, answer):\n",
    "    predict_sign = np.sign(predictions)\n",
    "    answer_sign = np.sign(answer)\n",
    "    margin_array = []\n",
    "    for m in range(answer.shape[0]):\n",
    "        row = []\n",
    "        for n in range(answer.shape[1]):\n",
    "            a = answer[m, n]\n",
    "            p = predictions[m, n]\n",
    "            p_s = predict_sign[m, n]\n",
    "            a_s = answer_sign[m, n]\n",
    "            if p_s == a_s:\n",
    "                row.append(min(abs(a), abs(p)))\n",
    "            elif p_s != a_s and a*p != 0:\n",
    "                row.append(-1*(abs(a)+abs(p)))\n",
    "            else:\n",
    "                row.append(-1*a)\n",
    "        margin_array.append(row)\n",
    "    margin_array = np.array(margin_array)\n",
    "    return np.sum(margin_array,0)\n",
    "\n",
    "\n",
    "def BOTscoreCal(pred, ans):\n",
    "    ans = np.array(list(ans))\n",
    "    margin1 = expect_margin(pred, np.array(ans))  # 选手预测的三日预期收益\n",
    "    margin2 = expect_margin(np.array(ans), np.array(ans))  # 完美预测的三日预期收益\n",
    "    margin_rate = np.divide(margin1, margin2)\n",
    "    BOTscore = np.sum(margin_rate)\n",
    "    return BOTscore"
   ]
  },
  {
   "cell_type": "code",
   "execution_count": 35,
   "metadata": {
    "collapsed": true
   },
   "outputs": [],
   "source": [
    "def predict(d1, d2, d3):\n",
    "    v1 = np.argmax(expected(matrix_t0_prob[d1], level_pro))\n",
    "    v2 = np.argmax(expected(matrix_prob[d2][v1], level_pro))\n",
    "    v3 = np.argmax(expected(matrix_prob[d3][v2], level_pro))\n",
    "    return([level_pro[v1]/100, level_pro[v2]/100, level_pro[v3]/100])"
   ]
  },
  {
   "cell_type": "code",
   "execution_count": 36,
   "metadata": {
    "collapsed": true
   },
   "outputs": [],
   "source": [
    "preds = []\n",
    "ans = []\n",
    "for i in data:\n",
    "    preds.append(predict(i.d1-2, i.d2-2, i.d3-2))\n",
    "    ans.append([i.v1,i.v2,i.v3])"
   ]
  },
  {
   "cell_type": "markdown",
   "metadata": {},
   "source": [
    "### 得分"
   ]
  },
  {
   "cell_type": "code",
   "execution_count": 37,
   "metadata": {},
   "outputs": [
    {
     "data": {
      "text/plain": [
       "-1.4524251798476038"
      ]
     },
     "execution_count": 37,
     "metadata": {},
     "output_type": "execute_result"
    }
   ],
   "source": [
    "BOTscoreCal(np.array(preds), np.array(ans))"
   ]
  },
  {
   "cell_type": "code",
   "execution_count": 38,
   "metadata": {
    "collapsed": true
   },
   "outputs": [],
   "source": [
    "import random"
   ]
  },
  {
   "cell_type": "markdown",
   "metadata": {},
   "source": [
    "### 得分分布"
   ]
  },
  {
   "cell_type": "code",
   "execution_count": 39,
   "metadata": {},
   "outputs": [
    {
     "name": "stdout",
     "output_type": "stream",
     "text": [
      "-1.57927783862\n",
      "-1.49810637572\n",
      "-1.44929944573\n",
      "-1.52167588395\n",
      "-1.42376186718\n",
      "-1.42967924369\n",
      "-1.44451102051\n",
      "-1.35826836084\n",
      "-1.55698701581\n",
      "-1.43031383532\n"
     ]
    }
   ],
   "source": [
    "for i in range(10):\n",
    "    preds = []\n",
    "    ans = []\n",
    "    random.shuffle(data)\n",
    "    for i in data[:1000]:\n",
    "        preds.append(predict(i.d1-2, i.d2-2, i.d3-2))\n",
    "        ans.append([i.v1,i.v2,i.v3])\n",
    "    print(BOTscoreCal(np.array(preds), np.array(ans)))\n",
    "        "
   ]
  },
  {
   "cell_type": "code",
   "execution_count": 40,
   "metadata": {},
   "outputs": [
    {
     "data": {
      "text/plain": [
       "1873"
      ]
     },
     "execution_count": 40,
     "metadata": {},
     "output_type": "execute_result"
    }
   ],
   "source": [
    "len([i for i in data if abs(i.v1) >= 0.07])"
   ]
  },
  {
   "cell_type": "markdown",
   "metadata": {
    "collapsed": true
   },
   "source": [
    "## 初赛 第三次提交"
   ]
  },
  {
   "cell_type": "code",
   "execution_count": 41,
   "metadata": {
    "collapsed": true
   },
   "outputs": [],
   "source": [
    "with open('./pricedetail3.json') as f:\n",
    "    third = json.load(f)"
   ]
  },
  {
   "cell_type": "code",
   "execution_count": 42,
   "metadata": {},
   "outputs": [
    {
     "data": {
      "text/plain": [
       "[{'d0_wd': 4,\n",
       "  'd1_wd': 5,\n",
       "  'd2_wd': 6,\n",
       "  'd3_wd': 2,\n",
       "  'uuid': 'A8379EB0-2BDE-4F79-9B89-AE746C58CBBF'},\n",
       " {'d0_wd': 5,\n",
       "  'd1_wd': 6,\n",
       "  'd2_wd': 2,\n",
       "  'd3_wd': 3,\n",
       "  'uuid': '80C9389A-294B-4BA1-8CCB-05F63CBBCD83'},\n",
       " {'d0_wd': 5,\n",
       "  'd1_wd': 6,\n",
       "  'd2_wd': 2,\n",
       "  'd3_wd': 3,\n",
       "  'uuid': '9E405056-F138-4473-B0B2-587878C2B26E'},\n",
       " {'d0_wd': 6,\n",
       "  'd1_wd': 2,\n",
       "  'd2_wd': 3,\n",
       "  'd3_wd': 4,\n",
       "  'uuid': '355A6845-F424-438F-85A3-68B40ED70B3D'},\n",
       " {'d0_wd': 4,\n",
       "  'd1_wd': 5,\n",
       "  'd2_wd': 6,\n",
       "  'd3_wd': 2,\n",
       "  'uuid': '24E57A5F-8979-4E58-9D84-6131C03C11EC'}]"
      ]
     },
     "execution_count": 42,
     "metadata": {},
     "output_type": "execute_result"
    }
   ],
   "source": [
    "third[:5]"
   ]
  },
  {
   "cell_type": "code",
   "execution_count": 43,
   "metadata": {
    "collapsed": true
   },
   "outputs": [],
   "source": [
    "for i in third:\n",
    "    tmp = predict(i['d1_wd']-2, i['d2_wd']-2, i['d3_wd']-2)\n",
    "    i['value1'] = tmp[0]\n",
    "    i['value2'] = tmp[1]\n",
    "    i['value3'] = tmp[2]\n"
   ]
  },
  {
   "cell_type": "code",
   "execution_count": 49,
   "metadata": {},
   "outputs": [
    {
     "data": {
      "text/plain": [
       "[{'d0_wd': 4,\n",
       "  'd1_wd': 5,\n",
       "  'd2_wd': 6,\n",
       "  'd3_wd': 2,\n",
       "  'uuid': 'A8379EB0-2BDE-4F79-9B89-AE746C58CBBF',\n",
       "  'value1': 0.0050000000000000001,\n",
       "  'value2': -0.0050000000000000001,\n",
       "  'value3': 0.0050000000000000001},\n",
       " {'d0_wd': 5,\n",
       "  'd1_wd': 6,\n",
       "  'd2_wd': 2,\n",
       "  'd3_wd': 3,\n",
       "  'uuid': '80C9389A-294B-4BA1-8CCB-05F63CBBCD83',\n",
       "  'value1': -0.0050000000000000001,\n",
       "  'value2': 0.0050000000000000001,\n",
       "  'value3': 0.0050000000000000001},\n",
       " {'d0_wd': 5,\n",
       "  'd1_wd': 6,\n",
       "  'd2_wd': 2,\n",
       "  'd3_wd': 3,\n",
       "  'uuid': '9E405056-F138-4473-B0B2-587878C2B26E',\n",
       "  'value1': -0.0050000000000000001,\n",
       "  'value2': 0.0050000000000000001,\n",
       "  'value3': 0.0050000000000000001}]"
      ]
     },
     "execution_count": 49,
     "metadata": {},
     "output_type": "execute_result"
    }
   ],
   "source": [
    "third[:3]"
   ]
  },
  {
   "cell_type": "code",
   "execution_count": 45,
   "metadata": {
    "collapsed": true
   },
   "outputs": [],
   "source": [
    "with open('submit3.json', 'w') as f:\n",
    "    json.dump(third, f)"
   ]
  },
  {
   "cell_type": "markdown",
   "metadata": {
    "collapsed": true
   },
   "source": [
    "### 复赛第一次"
   ]
  },
  {
   "cell_type": "code",
   "execution_count": 46,
   "metadata": {
    "collapsed": true
   },
   "outputs": [],
   "source": [
    "with open('test1_labs_clean.txt') as f:\n",
    "    d = [i.split('\\t') for i in f.read().split('\\n') if i]"
   ]
  },
  {
   "cell_type": "code",
   "execution_count": 47,
   "metadata": {},
   "outputs": [
    {
     "data": {
      "text/plain": [
       "['图片名称',\n",
       " '收盘日d',\n",
       " '收盘日d+1',\n",
       " '收盘日d+2',\n",
       " '收盘日d+3',\n",
       " '过去120天最高价',\n",
       " '过去120天最低价',\n",
       " '过去120天最高成交量',\n",
       " '过去120天最低成交量',\n",
       " '过去120天最高KDJ',\n",
       " '过去120天最低KDJ']"
      ]
     },
     "execution_count": 47,
     "metadata": {},
     "output_type": "execute_result"
    }
   ],
   "source": [
    "d[0]"
   ]
  },
  {
   "cell_type": "code",
   "execution_count": 50,
   "metadata": {
    "collapsed": true
   },
   "outputs": [],
   "source": [
    "out3 = []\n",
    "for i in d[1:]:\n",
    "    if i[0] not in ['97dcf665731f412a9858501c556b7b23.jpg', '63cbb0c43d5140acb0e2761bb8fe84c2.jpg']: # 未存在图片\n",
    "        out3.append({'d1_wd': int(i[2]), 'd2_wd': int(i[3]), 'd3_wd': int(i[4])})\n",
    "        "
   ]
  },
  {
   "cell_type": "code",
   "execution_count": 51,
   "metadata": {
    "collapsed": true
   },
   "outputs": [],
   "source": [
    "for i in out3:\n",
    "    tmp = predict(i['d1_wd']-2, i['d2_wd']-2, i['d3_wd']-2)\n",
    "    i['value1'] = tmp[0]\n",
    "    i['value2'] = tmp[1]\n",
    "    i['value3'] = tmp[2]"
   ]
  },
  {
   "cell_type": "code",
   "execution_count": 52,
   "metadata": {},
   "outputs": [
    {
     "data": {
      "text/plain": [
       "[{'d1_wd': 5,\n",
       "  'd2_wd': 6,\n",
       "  'd3_wd': 2,\n",
       "  'value1': 0.0050000000000000001,\n",
       "  'value2': -0.0050000000000000001,\n",
       "  'value3': 0.0050000000000000001},\n",
       " {'d1_wd': 4,\n",
       "  'd2_wd': 5,\n",
       "  'd3_wd': 6,\n",
       "  'value1': 0.0050000000000000001,\n",
       "  'value2': -0.0050000000000000001,\n",
       "  'value3': -0.0050000000000000001},\n",
       " {'d1_wd': 2,\n",
       "  'd2_wd': 6,\n",
       "  'd3_wd': 2,\n",
       "  'value1': 0.0050000000000000001,\n",
       "  'value2': -0.0050000000000000001,\n",
       "  'value3': 0.0050000000000000001},\n",
       " {'d1_wd': 6,\n",
       "  'd2_wd': 2,\n",
       "  'd3_wd': 3,\n",
       "  'value1': -0.0050000000000000001,\n",
       "  'value2': 0.0050000000000000001,\n",
       "  'value3': 0.0050000000000000001}]"
      ]
     },
     "execution_count": 52,
     "metadata": {},
     "output_type": "execute_result"
    }
   ],
   "source": [
    "out3[:4]"
   ]
  },
  {
   "cell_type": "code",
   "execution_count": 53,
   "metadata": {
    "collapsed": true
   },
   "outputs": [],
   "source": [
    "with open('retest1.json', 'w') as f:\n",
    "    json.dump(out3, f)"
   ]
  },
  {
   "cell_type": "code",
   "execution_count": null,
   "metadata": {
    "collapsed": true
   },
   "outputs": [],
   "source": []
  }
 ],
 "metadata": {
  "kernelspec": {
   "display_name": "Python 3",
   "language": "python",
   "name": "python3"
  },
  "language_info": {
   "codemirror_mode": {
    "name": "ipython",
    "version": 3
   },
   "file_extension": ".py",
   "mimetype": "text/x-python",
   "name": "python",
   "nbconvert_exporter": "python",
   "pygments_lexer": "ipython3",
   "version": "3.5.3"
  }
 },
 "nbformat": 4,
 "nbformat_minor": 2
}

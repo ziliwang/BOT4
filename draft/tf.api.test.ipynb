{
 "cells": [
  {
   "cell_type": "code",
   "execution_count": 24,
   "metadata": {
    "collapsed": true
   },
   "outputs": [],
   "source": [
    "import tensorflow as tf\n",
    "import numpy as np"
   ]
  },
  {
   "cell_type": "code",
   "execution_count": 2,
   "metadata": {
    "collapsed": true
   },
   "outputs": [],
   "source": [
    "import cv2"
   ]
  },
  {
   "cell_type": "code",
   "execution_count": 3,
   "metadata": {
    "collapsed": true
   },
   "outputs": [],
   "source": [
    "d = cv2.imread('./000cfdb3ccf54b518391c49598442531.jpg')"
   ]
  },
  {
   "cell_type": "code",
   "execution_count": 6,
   "metadata": {},
   "outputs": [
    {
     "data": {
      "text/plain": [
       "(300, 100, 3)"
      ]
     },
     "execution_count": 6,
     "metadata": {},
     "output_type": "execute_result"
    }
   ],
   "source": [
    "d.shape"
   ]
  },
  {
   "cell_type": "code",
   "execution_count": 4,
   "metadata": {
    "collapsed": true
   },
   "outputs": [],
   "source": [
    "sess=tf.Session() "
   ]
  },
  {
   "cell_type": "code",
   "execution_count": 36,
   "metadata": {},
   "outputs": [
    {
     "data": {
      "text/plain": [
       "array([[[255, 255, 255],\n",
       "        [255, 255, 255],\n",
       "        [255, 255, 255],\n",
       "        ..., \n",
       "        [255, 255, 255],\n",
       "        [255, 255, 255],\n",
       "        [255, 255, 255]],\n",
       "\n",
       "       [[255, 255, 255],\n",
       "        [255, 255, 255],\n",
       "        [255, 255, 255],\n",
       "        ..., \n",
       "        [255, 255, 255],\n",
       "        [255, 255, 255],\n",
       "        [255, 255, 255]],\n",
       "\n",
       "       [[255, 255, 255],\n",
       "        [255, 255, 255],\n",
       "        [255, 255, 255],\n",
       "        ..., \n",
       "        [255, 255, 255],\n",
       "        [255, 255, 255],\n",
       "        [255, 255, 255]],\n",
       "\n",
       "       ..., \n",
       "       [[133, 170, 108],\n",
       "        [138, 165, 131],\n",
       "        [115, 132, 128],\n",
       "        ..., \n",
       "        [139, 161, 137],\n",
       "        [117, 132, 128],\n",
       "        [128, 127, 169]],\n",
       "\n",
       "       [[231, 255, 201],\n",
       "        [240, 255, 231],\n",
       "        [228, 235, 244],\n",
       "        ..., \n",
       "        [243, 255, 226],\n",
       "        [232, 244, 224],\n",
       "        [235, 233, 255]],\n",
       "\n",
       "       [[244, 255, 209],\n",
       "        [251, 255, 240],\n",
       "        [250, 249, 255],\n",
       "        ..., \n",
       "        [253, 255, 226],\n",
       "        [252, 255, 234],\n",
       "        [251, 250, 255]]], dtype=uint8)"
      ]
     },
     "execution_count": 36,
     "metadata": {},
     "output_type": "execute_result"
    }
   ],
   "source": [
    "out = tf.slice(d, [190,0, 0], [50,-1, -1])\n",
    "sess.run(out)"
   ]
  },
  {
   "cell_type": "code",
   "execution_count": 37,
   "metadata": {
    "collapsed": true
   },
   "outputs": [],
   "source": [
    "o = sess.run(out)"
   ]
  },
  {
   "cell_type": "code",
   "execution_count": 39,
   "metadata": {},
   "outputs": [
    {
     "data": {
      "text/plain": [
       "array([[[255, 255, 255],\n",
       "        [255, 255, 255],\n",
       "        [255, 255, 255],\n",
       "        ..., \n",
       "        [255, 255, 255],\n",
       "        [255, 255, 255],\n",
       "        [255, 255, 255]],\n",
       "\n",
       "       [[255, 255, 255],\n",
       "        [255, 255, 255],\n",
       "        [255, 255, 255],\n",
       "        ..., \n",
       "        [255, 255, 255],\n",
       "        [255, 255, 255],\n",
       "        [255, 255, 255]],\n",
       "\n",
       "       [[255, 255, 255],\n",
       "        [255, 255, 255],\n",
       "        [255, 255, 255],\n",
       "        ..., \n",
       "        [255, 255, 255],\n",
       "        [255, 255, 255],\n",
       "        [255, 255, 255]],\n",
       "\n",
       "       ..., \n",
       "       [[133, 170, 108],\n",
       "        [138, 165, 131],\n",
       "        [115, 132, 128],\n",
       "        ..., \n",
       "        [139, 161, 137],\n",
       "        [117, 132, 128],\n",
       "        [128, 127, 169]],\n",
       "\n",
       "       [[231, 255, 201],\n",
       "        [240, 255, 231],\n",
       "        [228, 235, 244],\n",
       "        ..., \n",
       "        [243, 255, 226],\n",
       "        [232, 244, 224],\n",
       "        [235, 233, 255]],\n",
       "\n",
       "       [[244, 255, 209],\n",
       "        [251, 255, 240],\n",
       "        [250, 249, 255],\n",
       "        ..., \n",
       "        [253, 255, 226],\n",
       "        [252, 255, 234],\n",
       "        [251, 250, 255]]], dtype=uint8)"
      ]
     },
     "execution_count": 39,
     "metadata": {},
     "output_type": "execute_result"
    }
   ],
   "source": [
    "o"
   ]
  },
  {
   "cell_type": "code",
   "execution_count": 11,
   "metadata": {
    "collapsed": true
   },
   "outputs": [],
   "source": [
    "import matplotlib.pyplot as plt"
   ]
  },
  {
   "cell_type": "code",
   "execution_count": 40,
   "metadata": {},
   "outputs": [
    {
     "data": {
      "image/png": "[encoded data removed]",
      "text/plain": [
       "<matplotlib.figure.Figure at 0x7fb9ff91c400>"
      ]
     },
     "metadata": {},
     "output_type": "display_data"
    }
   ],
   "source": [
    "plt.axis(\"off\")\n",
    "plt.imshow(cv2.cvtColor(o, cv2.COLOR_BGR2RGB))\n",
    "plt.show()"
   ]
  },
  {
   "cell_type": "code",
   "execution_count": 13,
   "metadata": {
    "collapsed": true
   },
   "outputs": [],
   "source": [
    "from tensorflow.contrib import slim"
   ]
  },
  {
   "cell_type": "code",
   "execution_count": 14,
   "metadata": {},
   "outputs": [
    {
     "name": "stdout",
     "output_type": "stream",
     "text": [
      "Help on function convolution in module tensorflow.contrib.framework.python.ops.arg_scope:\n",
      "\n",
      "convolution(inputs, num_outputs, kernel_size, stride=1, padding='SAME', data_format=None, rate=1, activation_fn=<function relu at 0x7fba5e228598>, normalizer_fn=None, normalizer_params=None, weights_initializer=<function variance_scaling_initializer.<locals>._initializer at 0x7fba07b1c0d0>, weights_regularizer=None, biases_initializer=<tensorflow.python.ops.init_ops.Zeros object at 0x7fba07b19160>, biases_regularizer=None, reuse=None, variables_collections=None, outputs_collections=None, trainable=True, scope=None)\n",
      "    Adds an N-D convolution followed by an optional batch_norm layer.\n",
      "    \n",
      "    It is required that 1 <= N <= 3.\n",
      "    \n",
      "    `convolution` creates a variable called `weights`, representing the\n",
      "    convolutional kernel, that is convolved (actually cross-correlated) with the\n",
      "    `inputs` to produce a `Tensor` of activations. If a `normalizer_fn` is\n",
      "    provided (such as `batch_norm`), it is then applied. Otherwise, if\n",
      "    `normalizer_fn` is None and a `biases_initializer` is provided then a `biases`\n",
      "    variable would be created and added the activations. Finally, if\n",
      "    `activation_fn` is not `None`, it is applied to the activations as well.\n",
      "    \n",
      "    Performs atrous convolution with input stride/dilation rate equal to `rate`\n",
      "    if a value > 1 for any dimension of `rate` is specified.  In this case\n",
      "    `stride` values != 1 are not supported.\n",
      "    \n",
      "    Args:\n",
      "      inputs: A Tensor of rank N+2 of shape\n",
      "        `[batch_size] + input_spatial_shape + [in_channels]` if data_format does\n",
      "        not start with \"NC\" (default), or\n",
      "        `[batch_size, in_channels] + input_spatial_shape` if data_format starts\n",
      "        with \"NC\".\n",
      "      num_outputs: Integer, the number of output filters.\n",
      "      kernel_size: A sequence of N positive integers specifying the spatial\n",
      "        dimensions of of the filters.  Can be a single integer to specify the same\n",
      "        value for all spatial dimensions.\n",
      "      stride: A sequence of N positive integers specifying the stride at which to\n",
      "        compute output.  Can be a single integer to specify the same value for all\n",
      "        spatial dimensions.  Specifying any `stride` value != 1 is incompatible\n",
      "        with specifying any `rate` value != 1.\n",
      "      padding: One of `\"VALID\"` or `\"SAME\"`.\n",
      "      data_format: A string or None.  Specifies whether the channel dimension of\n",
      "        the `input` and output is the last dimension (default, or if `data_format`\n",
      "        does not start with \"NC\"), or the second dimension (if `data_format`\n",
      "        starts with \"NC\").  For N=1, the valid values are \"NWC\" (default) and\n",
      "        \"NCW\".  For N=2, the valid values are \"NHWC\" (default) and \"NCHW\".\n",
      "        For N=3, the valid values are \"NDHWC\" (default) and \"NCDHW\".\n",
      "      rate: A sequence of N positive integers specifying the dilation rate to use\n",
      "        for atrous convolution.  Can be a single integer to specify the same\n",
      "        value for all spatial dimensions.  Specifying any `rate` value != 1 is\n",
      "        incompatible with specifying any `stride` value != 1.\n",
      "      activation_fn: Activation function. The default value is a ReLU function.\n",
      "        Explicitly set it to None to skip it and maintain a linear activation.\n",
      "      normalizer_fn: Normalization function to use instead of `biases`. If\n",
      "        `normalizer_fn` is provided then `biases_initializer` and\n",
      "        `biases_regularizer` are ignored and `biases` are not created nor added.\n",
      "        default set to None for no normalizer function\n",
      "      normalizer_params: Normalization function parameters.\n",
      "      weights_initializer: An initializer for the weights.\n",
      "      weights_regularizer: Optional regularizer for the weights.\n",
      "      biases_initializer: An initializer for the biases. If None skip biases.\n",
      "      biases_regularizer: Optional regularizer for the biases.\n",
      "      reuse: Whether or not the layer and its variables should be reused. To be\n",
      "        able to reuse the layer scope must be given.\n",
      "      variables_collections: Optional list of collections for all the variables or\n",
      "        a dictionary containing a different list of collection per variable.\n",
      "      outputs_collections: Collection to add the outputs.\n",
      "      trainable: If `True` also add variables to the graph collection\n",
      "        `GraphKeys.TRAINABLE_VARIABLES` (see tf.Variable).\n",
      "      scope: Optional scope for `variable_scope`.\n",
      "    \n",
      "    Returns:\n",
      "      A tensor representing the output of the operation.\n",
      "    \n",
      "    Raises:\n",
      "      ValueError: If `data_format` is invalid.\n",
      "      ValueError: Both 'rate' and `stride` are not uniformly 1.\n",
      "\n"
     ]
    }
   ],
   "source": [
    "help(slim.conv2d)"
   ]
  },
  {
   "cell_type": "code",
   "execution_count": 15,
   "metadata": {},
   "outputs": [
    {
     "name": "stdout",
     "output_type": "stream",
     "text": [
      "Help on function pool in module tensorflow.contrib.framework.python.ops.arg_scope:\n",
      "\n",
      "pool(inputs, kernel_size, pooling_type, padding='VALID', data_format=None, dilation_rate=1, stride=1, outputs_collections=None, scope=None)\n",
      "    Adds a pooling op.\n",
      "    \n",
      "    \n",
      "    Args:\n",
      "      inputs: Tensor of rank N+2, of shape\n",
      "        `[batch_size] + input_spatial_shape + [num_channels]` if data_format does\n",
      "        not start with \"NC\" (default), or\n",
      "        `[batch_size, num_channels] + input_spatial_shape` if data_format starts\n",
      "        with \"NC\".  Pooling happens over the spatial dimensions only.\n",
      "      kernel_size: Sequence of N ints >= 1.  Can also be a single integer to\n",
      "        specify the same value for all spatial dimensions.\n",
      "      pooling_type: Specifies pooling operation, must be \"AVG\" or \"MAX\".\n",
      "      padding: The padding algorithm, must be \"SAME\" or \"VALID\".\n",
      "      data_format: A string or None.  Specifies whether the channel dimension of\n",
      "        the `input` and output is the last dimension (default, or if `data_format`\n",
      "        does not start with \"NC\"), or the second dimension (if `data_format`\n",
      "        starts with \"NC\").  For N=1, the valid values are \"NWC\" (default) and\n",
      "        \"NCW\".  For N=2, the valid values are \"NHWC\" (default) and \"NCHW\".\n",
      "        For N=3, the valid values are \"NDHWC\" (default) and \"NCDHW\".\n",
      "      dilation_rate: Optional.  Dilation rate.  Sequence of N ints >= 1.  Defaults\n",
      "        to [1]*N.  Can also be a single integer to specify the same value for all\n",
      "        spatial dimensions.  If any value of dilation_rate is > 1, then all values\n",
      "        of stride must be 1.\n",
      "      stride: Optional.  Sequence of N ints >= 1.  Defaults to [1]*N.  Can also be\n",
      "        a single integer to specify the same value for all spatial dimensions.  If\n",
      "        any value of stride is > 1, then all values of dilation_rate must be 1.\n",
      "      outputs_collections: The collections to which the outputs are added.\n",
      "      scope: Optional scope for name_scope.\n",
      "    \n",
      "    Returns:\n",
      "      A `Tensor` representing the results of the pooling operation.\n",
      "    \n",
      "    Raises:\n",
      "      ValueError: If arguments are invalid.\n",
      "\n"
     ]
    }
   ],
   "source": [
    "help(slim.pool)"
   ]
  },
  {
   "cell_type": "code",
   "execution_count": 16,
   "metadata": {},
   "outputs": [
    {
     "name": "stdout",
     "output_type": "stream",
     "text": [
      "Help on function flatten in module tensorflow.contrib.framework.python.ops.arg_scope:\n",
      "\n",
      "flatten(inputs, outputs_collections=None, scope=None)\n",
      "    Flattens the input while maintaining the batch_size.\n",
      "    \n",
      "      Assumes that the first dimension represents the batch.\n",
      "    \n",
      "    Args:\n",
      "      inputs: A tensor of size [batch_size, ...].\n",
      "      outputs_collections: Collection to add the outputs.\n",
      "      scope: Optional scope for name_scope.\n",
      "    \n",
      "    Returns:\n",
      "      A flattened tensor with shape [batch_size, k].\n",
      "    Raises:\n",
      "      ValueError: If inputs rank is unknown or less than 2.\n",
      "\n"
     ]
    }
   ],
   "source": [
    "help(slim.flatten)"
   ]
  },
  {
   "cell_type": "code",
   "execution_count": 19,
   "metadata": {},
   "outputs": [
    {
     "name": "stdout",
     "output_type": "stream",
     "text": [
      "Help on function fully_connected in module tensorflow.contrib.framework.python.ops.arg_scope:\n",
      "\n",
      "fully_connected(inputs, num_outputs, activation_fn=<function relu at 0x7fba5e228598>, normalizer_fn=None, normalizer_params=None, weights_initializer=<function variance_scaling_initializer.<locals>._initializer at 0x7fba07b1cb70>, weights_regularizer=None, biases_initializer=<tensorflow.python.ops.init_ops.Zeros object at 0x7fba07b19390>, biases_regularizer=None, reuse=None, variables_collections=None, outputs_collections=None, trainable=True, scope=None)\n",
      "    Adds a fully connected layer.\n",
      "    \n",
      "    `fully_connected` creates a variable called `weights`, representing a fully\n",
      "    connected weight matrix, which is multiplied by the `inputs` to produce a\n",
      "    `Tensor` of hidden units. If a `normalizer_fn` is provided (such as\n",
      "    `batch_norm`), it is then applied. Otherwise, if `normalizer_fn` is\n",
      "    None and a `biases_initializer` is provided then a `biases` variable would be\n",
      "    created and added the hidden units. Finally, if `activation_fn` is not `None`,\n",
      "    it is applied to the hidden units as well.\n",
      "    \n",
      "    Note: that if `inputs` have a rank greater than 2, then `inputs` is flattened\n",
      "    prior to the initial matrix multiply by `weights`.\n",
      "    \n",
      "    Args:\n",
      "      inputs: A tensor of at least rank 2 and static value for the last dimension;\n",
      "        i.e. `[batch_size, depth]`, `[None, None, None, channels]`.\n",
      "      num_outputs: Integer or long, the number of output units in the layer.\n",
      "      activation_fn: Activation function. The default value is a ReLU function.\n",
      "        Explicitly set it to None to skip it and maintain a linear activation.\n",
      "      normalizer_fn: Normalization function to use instead of `biases`. If\n",
      "        `normalizer_fn` is provided then `biases_initializer` and\n",
      "        `biases_regularizer` are ignored and `biases` are not created nor added.\n",
      "        default set to None for no normalizer function\n",
      "      normalizer_params: Normalization function parameters.\n",
      "      weights_initializer: An initializer for the weights.\n",
      "      weights_regularizer: Optional regularizer for the weights.\n",
      "      biases_initializer: An initializer for the biases. If None skip biases.\n",
      "      biases_regularizer: Optional regularizer for the biases.\n",
      "      reuse: Whether or not the layer and its variables should be reused. To be\n",
      "        able to reuse the layer scope must be given.\n",
      "      variables_collections: Optional list of collections for all the variables or\n",
      "        a dictionary containing a different list of collections per variable.\n",
      "      outputs_collections: Collection to add the outputs.\n",
      "      trainable: If `True` also add variables to the graph collection\n",
      "        `GraphKeys.TRAINABLE_VARIABLES` (see tf.Variable).\n",
      "      scope: Optional scope for variable_scope.\n",
      "    \n",
      "    Returns:\n",
      "       The tensor variable representing the result of the series of operations.\n",
      "    \n",
      "    Raises:\n",
      "      ValueError: If x has rank less than 2 or if its last dimension is not set.\n",
      "\n"
     ]
    }
   ],
   "source": [
    "help(slim.fully_connected)"
   ]
  },
  {
   "cell_type": "code",
   "execution_count": 21,
   "metadata": {},
   "outputs": [
    {
     "name": "stdout",
     "output_type": "stream",
     "text": [
      "Help on function get_regularization_losses in module tensorflow.contrib.losses.python.losses.loss_ops:\n",
      "\n",
      "get_regularization_losses(scope=None)\n",
      "    Gets the regularization losses. (deprecated)\n",
      "    \n",
      "    THIS FUNCTION IS DEPRECATED. It will be removed after 2016-12-30.\n",
      "    Instructions for updating:\n",
      "    Use tf.losses.get_regularization_losses instead.\n",
      "    \n",
      "    Args:\n",
      "      scope: an optional scope for filtering the losses to return.\n",
      "    \n",
      "    Returns:\n",
      "      A list of regularization losses as Tensors.\n",
      "\n"
     ]
    }
   ],
   "source": [
    "help(slim.losses.get_regularization_losses)"
   ]
  },
  {
   "cell_type": "code",
   "execution_count": null,
   "metadata": {
    "collapsed": true
   },
   "outputs": [],
   "source": [
    "tf.multiply"
   ]
  }
 ],
 "metadata": {
  "kernelspec": {
   "display_name": "Python 3",
   "language": "python",
   "name": "python3"
  },
  "language_info": {
   "codemirror_mode": {
    "name": "ipython",
    "version": 3
   },
   "file_extension": ".py",
   "mimetype": "text/x-python",
   "name": "python",
   "nbconvert_exporter": "python",
   "pygments_lexer": "ipython3",
   "version": "3.5.3"
  }
 },
 "nbformat": 4,
 "nbformat_minor": 2
}
